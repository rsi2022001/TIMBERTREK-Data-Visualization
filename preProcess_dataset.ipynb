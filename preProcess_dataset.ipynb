{
  "nbformat": 4,
  "nbformat_minor": 0,
  "metadata": {
    "colab": {
      "provenance": []
    },
    "kernelspec": {
      "name": "python3",
      "display_name": "Python 3"
    },
    "language_info": {
      "name": "python"
    }
  },
  "cells": [
    {
      "cell_type": "code",
      "execution_count": null,
      "metadata": {
        "colab": {
          "base_uri": "https://localhost:8080/"
        },
        "id": "sqzKHDx4BNKP",
        "outputId": "df1eb88b-01ad-4a02-9fb6-9ba030338fa0"
      },
      "outputs": [
        {
          "output_type": "stream",
          "name": "stdout",
          "text": [
            "Saved: nafld_timbertrek.csv (categorical & one-hot encoded, using 0/1)\n",
            "Missing status values: 0\n"
          ]
        }
      ],
      "source": [
        "import pandas as pd\n",
        "\n",
        "# Load nafld1.csv\n",
        "df = pd.read_csv(\"nafld1.csv\")\n",
        "\n",
        "# Drop unnecessary columns\n",
        "df = df[['age', 'male', 'weight', 'height', 'bmi', 'status']]\n",
        "\n",
        "# Handle missing values\n",
        "df.fillna(df.mean(numeric_only=True), inplace=True)\n",
        "\n",
        "# Convert male (0 = Female, 1 = Male) to string for categorical\n",
        "df['gender'] = df['male'].map({0: 'female', 1: 'male'})\n",
        "\n",
        "# Bin continuous values into categorical labels\n",
        "df['age_cat'] = pd.cut(df['age'], bins=[0, 40, 60, 80, 100], labels=['young', 'middle-aged', 'senior', 'elderly'])\n",
        "df['bmi_cat'] = pd.cut(df['bmi'], bins=[0, 18.5, 25, 30, 100], labels=['underweight', 'normal', 'overweight', 'obese'])\n",
        "df['height_cat'] = pd.cut(df['height'], bins=[0, 150, 165, 180, 250], labels=['short', 'avg', 'tall', 'very tall'])\n",
        "df['weight_cat'] = pd.cut(df['weight'], bins=[0, 60, 80, 100, 150], labels=['light', 'med', 'heavy', 'very heavy'])\n",
        "\n",
        "# Drop rows with missing status\n",
        "df = df[df['status'].notna()]\n",
        "\n",
        "# Select only categorical columns\n",
        "df_cat = df[['gender', 'age_cat', 'bmi_cat', 'height_cat', 'weight_cat', 'status']]\n",
        "\n",
        "# One-hot encode and convert booleans to integers\n",
        "df_encoded = pd.get_dummies(df_cat.drop(columns=['status']))\n",
        "df_encoded = df_encoded.astype(int)\n",
        "\n",
        "# Add the label column at the end\n",
        "df_encoded['disease'] = df_cat['status']\n",
        "\n",
        "# Save as CSV\n",
        "df_encoded.to_csv(\"nafld_timbertrek.csv\", index=False)\n",
        "\n",
        "print(\"Saved: nafld_timbertrek.csv (categorical & one-hot encoded, using 0/1)\")\n",
        "print(\"Missing status values:\", df['status'].isna().sum())  # Should be 0\n"
      ]
    }
  ]
}